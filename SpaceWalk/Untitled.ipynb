{
 "cells": [
  {
   "cell_type": "code",
   "execution_count": 1,
   "metadata": {},
   "outputs": [],
   "source": [
    "import plotly.plotly as py\n",
    "import plotly.graph_objs as go"
   ]
  },
  {
   "cell_type": "code",
   "execution_count": 2,
   "metadata": {},
   "outputs": [
    {
     "ename": "NameError",
     "evalue": "name 'russia_photo_seconds_total' is not defined",
     "output_type": "error",
     "traceback": [
      "\u001b[0;31m---------------------------------------------------------------------------\u001b[0m",
      "\u001b[0;31mNameError\u001b[0m                                 Traceback (most recent call last)",
      "\u001b[0;32m<ipython-input-2-2ab562465517>\u001b[0m in \u001b[0;36m<module>\u001b[0;34m()\u001b[0m\n\u001b[1;32m      1\u001b[0m trace1 = go.Bar(\n\u001b[1;32m      2\u001b[0m     \u001b[0mx\u001b[0m\u001b[0;34m=\u001b[0m\u001b[0;34m[\u001b[0m\u001b[0;34m'USA'\u001b[0m\u001b[0;34m,\u001b[0m \u001b[0;34m'Russia'\u001b[0m\u001b[0;34m]\u001b[0m\u001b[0;34m,\u001b[0m\u001b[0;34m\u001b[0m\u001b[0m\n\u001b[0;32m----> 3\u001b[0;31m     \u001b[0my\u001b[0m\u001b[0;34m=\u001b[0m\u001b[0;34m[\u001b[0m\u001b[0mrussia_photo_seconds_total\u001b[0m\u001b[0;34m,\u001b[0m \u001b[0mrussia_photo_seconds_total\u001b[0m\u001b[0;34m]\u001b[0m\u001b[0;34m,\u001b[0m\u001b[0;34m\u001b[0m\u001b[0m\n\u001b[0m\u001b[1;32m      4\u001b[0m     \u001b[0mname\u001b[0m\u001b[0;34m=\u001b[0m\u001b[0;34m'Photos'\u001b[0m\u001b[0;34m\u001b[0m\u001b[0m\n\u001b[1;32m      5\u001b[0m )\n",
      "\u001b[0;31mNameError\u001b[0m: name 'russia_photo_seconds_total' is not defined"
     ]
    }
   ],
   "source": [
    "trace1 = go.Bar(\n",
    "    x=['USA', 'Russia'],\n",
    "    y=[russia_photo_seconds_total, russia_photo_seconds_total],\n",
    "    name='Photos'\n",
    ")\n",
    "trace2 = go.Bar(\n",
    "    x=['USA', 'Russia'],\n",
    "    y=[russia_photo_seconds_total, russia_maintaince_seconds_total],\n",
    "    name='Maintaince'\n",
    ")\n",
    "trace3 = go.Bar(\n",
    "    x=['USA', 'Russia'],\n",
    "    y=[russia_photo_seconds_total, russia_install_seconds_total],\n",
    "    name='Installing Equipment'\n",
    ")\n",
    "trace4 = go.Bar(\n",
    "    x=['USA', 'Russia'],\n",
    "    y=[russia_photo_seconds_total, russia_research_seconds_total],\n",
    "    name='Research'\n",
    ")\n",
    "trace5 = go.Bar(\n",
    "    x=['USA', 'Russia'],\n",
    "    y=[russia_photo_seconds_total, russia_demo_seconds_total],\n",
    "    name='Demos'\n",
    ")\n",
    "trace6 = go.Bar(\n",
    "    x=['USA', 'Russia'],\n",
    "    y=[russia_photo_seconds_total, russia_error_seconds_total],\n",
    "    name='Errors'\n",
    ")\n",
    "trace7 = go.Bar(\n",
    "    x=['USA', 'Russia'],\n",
    "    y=[russia_photo_seconds_total, russia_experiment_seconds],\n",
    "    name='Experiments'\n",
    ")\n",
    "data = [trace1, trace2, trace3, trace4, trace5, trace6, trace7]\n",
    "layout = go.Layout(\n",
    "    barmode='stack'\n",
    ")\n",
    "\n",
    "fig = go.Figure(data=data, layout=layout)\n",
    "py.iplot(fig, filename='stacked-bar')"
   ]
  },
  {
   "cell_type": "code",
   "execution_count": null,
   "metadata": {},
   "outputs": [],
   "source": []
  }
 ],
 "metadata": {
  "kernelspec": {
   "display_name": "Python 3",
   "language": "python",
   "name": "python3"
  },
  "language_info": {
   "codemirror_mode": {
    "name": "ipython",
    "version": 3
   },
   "file_extension": ".py",
   "mimetype": "text/x-python",
   "name": "python",
   "nbconvert_exporter": "python",
   "pygments_lexer": "ipython3",
   "version": "3.6.4"
  }
 },
 "nbformat": 4,
 "nbformat_minor": 2
}
